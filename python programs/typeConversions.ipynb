{
 "cells": [
  {
   "cell_type": "code",
   "execution_count": 35,
   "metadata": {},
   "outputs": [],
   "source": [
    "V_bool=True\n",
    "V_int=1\n",
    "V_float=-1.0\n",
    "V_str=\"1\"\n",
    "V_list=[1,2,3]\n",
    "V_tuple=(1,2,3)\n",
    "V_dict={\"a\":1,\"b\":2}\n",
    "V_set={1,2,3}\n",
    "V_complex=1+2j"
   ]
  },
  {
   "cell_type": "code",
   "execution_count": 13,
   "metadata": {},
   "outputs": [
    {
     "name": "stdout",
     "output_type": "stream",
     "text": [
      "<class 'bool'>\n",
      "<class 'int'>\n",
      "<class 'float'>\n",
      "<class 'str'>\n",
      "<class 'list'>\n",
      "<class 'tuple'>\n",
      "<class 'dict'>\n",
      "<class 'set'>\n",
      "<class 'complex'>\n"
     ]
    }
   ],
   "source": [
    "print(type(V_bool))\n",
    "print(type(V_int))\n",
    "print(type(V_float))\n",
    "print(type(V_str))\n",
    "print(type(V_list))\n",
    "print(type(V_tuple))\n",
    "print(type(V_dict))\n",
    "print(type(V_set))\n",
    "print(type(V_complex))"
   ]
  },
  {
   "cell_type": "markdown",
   "metadata": {},
   "source": [
    "conversion to bool"
   ]
  },
  {
   "cell_type": "code",
   "execution_count": 14,
   "metadata": {},
   "outputs": [
    {
     "name": "stdout",
     "output_type": "stream",
     "text": [
      "True\n",
      "<class 'bool'>\n"
     ]
    }
   ],
   "source": [
    "int_to_bool=bool(V_int)\n",
    "print(int_to_bool)\n",
    "print(type(int_to_bool))"
   ]
  },
  {
   "cell_type": "code",
   "execution_count": 15,
   "metadata": {},
   "outputs": [
    {
     "name": "stdout",
     "output_type": "stream",
     "text": [
      "True\n",
      "<class 'bool'>\n",
      "False\n",
      "<class 'bool'>\n"
     ]
    }
   ],
   "source": [
    "float_to_bool=bool(V_float)\n",
    "print(float_to_bool)\n",
    "print(type(float_to_bool))\n",
    "\n",
    "V_float2=0.0\n",
    "float_to_bool=bool(V_float2)\n",
    "print(float_to_bool)\n",
    "print(type(float_to_bool))"
   ]
  },
  {
   "cell_type": "code",
   "execution_count": 20,
   "metadata": {},
   "outputs": [
    {
     "name": "stdout",
     "output_type": "stream",
     "text": [
      "True\n",
      "<class 'bool'>\n",
      "False\n",
      "<class 'bool'>\n",
      "True\n",
      "<class 'bool'>\n"
     ]
    }
   ],
   "source": [
    "str_to_bool=bool(V_str)\n",
    "print(str_to_bool)\n",
    "print(type(str_to_bool))\n",
    "\n",
    "V_str2=\"\"\n",
    "str_to_bool=bool(V_str2)\n",
    "print(str_to_bool)\n",
    "print(type(str_to_bool))\n",
    "\n",
    "V_str3=\"0\"\n",
    "str_to_bool=bool(V_str3)\n",
    "print(str_to_bool)\n",
    "print(type(str_to_bool))\n",
    "\n"
   ]
  },
  {
   "cell_type": "code",
   "execution_count": 23,
   "metadata": {},
   "outputs": [
    {
     "name": "stdout",
     "output_type": "stream",
     "text": [
      "True\n",
      "<class 'bool'>\n",
      "False\n",
      "<class 'bool'>\n"
     ]
    }
   ],
   "source": [
    "list_to_bool=bool(V_list)\n",
    "print(list_to_bool)\n",
    "print(type(list_to_bool))\n",
    "\n",
    "V_list2=[]\n",
    "list_to_bool=bool(V_list2)\n",
    "print(list_to_bool)\n",
    "print(type(list_to_bool))"
   ]
  },
  {
   "cell_type": "code",
   "execution_count": 24,
   "metadata": {},
   "outputs": [
    {
     "name": "stdout",
     "output_type": "stream",
     "text": [
      "True\n",
      "<class 'bool'>\n",
      "False\n",
      "<class 'bool'>\n"
     ]
    }
   ],
   "source": [
    "tuple_to_bool=bool(V_tuple)\n",
    "print(tuple_to_bool)\n",
    "print(type(tuple_to_bool))\n",
    "\n",
    "V_tuple2=()\n",
    "tuple_to_bool=bool(V_tuple2)\n",
    "print(tuple_to_bool)\n",
    "print(type(tuple_to_bool))\n"
   ]
  },
  {
   "cell_type": "code",
   "execution_count": 27,
   "metadata": {},
   "outputs": [
    {
     "name": "stdout",
     "output_type": "stream",
     "text": [
      "True\n",
      "<class 'bool'>\n",
      "<class 'set'>\n",
      "False\n",
      "<class 'bool'>\n"
     ]
    }
   ],
   "source": [
    "set_to_bool=bool(V_set)\n",
    "print(set_to_bool)\n",
    "print(type(set_to_bool))\n",
    "\n",
    "V_set2=set()\n",
    "print(type(V_set2))\n",
    "set_to_bool=bool(V_set2)\n",
    "print(set_to_bool)\n",
    "print(type(set_to_bool))\n"
   ]
  },
  {
   "cell_type": "code",
   "execution_count": 28,
   "metadata": {},
   "outputs": [
    {
     "name": "stdout",
     "output_type": "stream",
     "text": [
      "True\n",
      "<class 'bool'>\n",
      "False\n",
      "<class 'bool'>\n"
     ]
    }
   ],
   "source": [
    "dict_to_bool=bool(V_dict)\n",
    "print(dict_to_bool)\n",
    "print(type(dict_to_bool))\n",
    "\n",
    "V_dict2={}\n",
    "dict_to_bool=bool(V_dict2)\n",
    "print(dict_to_bool)\n",
    "print(type(dict_to_bool))\n"
   ]
  },
  {
   "cell_type": "code",
   "execution_count": 37,
   "metadata": {},
   "outputs": [
    {
     "name": "stdout",
     "output_type": "stream",
     "text": [
      "True\n",
      "<class 'bool'>\n",
      "<class 'complex'>\n",
      "False\n",
      "<class 'bool'>\n"
     ]
    }
   ],
   "source": [
    "complex_to_bool=bool(V_complex)\n",
    "print(complex_to_bool)\n",
    "print(type(complex_to_bool))\n",
    "\n",
    "V_complex2=0+0j\n",
    "print(type(V_complex2))\n",
    "complex_to_bool=bool(V_complex2)\n",
    "print(complex_to_bool)\n",
    "print(type(complex_to_bool))\n"
   ]
  },
  {
   "cell_type": "markdown",
   "metadata": {},
   "source": [
    "conversion to int"
   ]
  },
  {
   "cell_type": "code",
   "execution_count": 4,
   "metadata": {},
   "outputs": [
    {
     "name": "stdout",
     "output_type": "stream",
     "text": [
      "1\n",
      "<class 'int'>\n",
      "0\n",
      "<class 'int'>\n",
      "-1\n",
      "<class 'int'>\n",
      "1\n",
      "<class 'int'>\n"
     ]
    }
   ],
   "source": [
    "bool_to_int=int(V_bool)\n",
    "print(bool_to_int)\n",
    "print(type(bool_to_int))\n",
    "\n",
    "V_bool2=False\n",
    "bool_to_int=int(V_bool2)\n",
    "print(bool_to_int)\n",
    "print(type(bool_to_int))\n",
    "\n",
    "float_to_int=int(V_float)\n",
    "print(float_to_int)\n",
    "print(type(float_to_int))\n",
    "\n",
    "\n",
    "\n"
   ]
  },
  {
   "cell_type": "code",
   "execution_count": 7,
   "metadata": {},
   "outputs": [
    {
     "name": "stdout",
     "output_type": "stream",
     "text": [
      "1\n",
      "<class 'int'>\n",
      "-10\n",
      "<class 'int'>\n"
     ]
    },
    {
     "ename": "ValueError",
     "evalue": "invalid literal for int() with base 10: 'SD'",
     "output_type": "error",
     "traceback": [
      "\u001b[1;31m---------------------------------------------------------------------------\u001b[0m",
      "\u001b[1;31mValueError\u001b[0m                                Traceback (most recent call last)",
      "Cell \u001b[1;32mIn[7], line 11\u001b[0m\n\u001b[0;32m      8\u001b[0m \u001b[39mprint\u001b[39m(\u001b[39mtype\u001b[39m(str_to_int))\n\u001b[0;32m     10\u001b[0m V_str3\u001b[39m=\u001b[39m\u001b[39m\"\u001b[39m\u001b[39mSD\u001b[39m\u001b[39m\"\u001b[39m\n\u001b[1;32m---> 11\u001b[0m str_to_int\u001b[39m=\u001b[39m\u001b[39mint\u001b[39;49m(V_str3)\n\u001b[0;32m     12\u001b[0m \u001b[39mprint\u001b[39m(str_to_int)\n\u001b[0;32m     13\u001b[0m \u001b[39mprint\u001b[39m(\u001b[39mtype\u001b[39m(str_to_int))\n",
      "\u001b[1;31mValueError\u001b[0m: invalid literal for int() with base 10: 'SD'"
     ]
    }
   ],
   "source": [
    "str_to_int=int(V_str)\n",
    "print(str_to_int)\n",
    "print(type(str_to_int))\n",
    "\n",
    "V_str2=\"-10\"\n",
    "str_to_int=int(V_str2)\n",
    "print(str_to_int)\n",
    "print(type(str_to_int))\n",
    "\n",
    "V_str3=\"SD\"\n",
    "str_to_int=int(V_str3)\n",
    "print(str_to_int)\n",
    "print(type(str_to_int))"
   ]
  },
  {
   "cell_type": "code",
   "execution_count": 13,
   "metadata": {},
   "outputs": [
    {
     "ename": "TypeError",
     "evalue": "int() argument must be a string, a bytes-like object or a real number, not 'complex'",
     "output_type": "error",
     "traceback": [
      "\u001b[1;31m---------------------------------------------------------------------------\u001b[0m",
      "\u001b[1;31mTypeError\u001b[0m                                 Traceback (most recent call last)",
      "Cell \u001b[1;32mIn[13], line 1\u001b[0m\n\u001b[1;32m----> 1\u001b[0m complex_to_int\u001b[39m=\u001b[39m\u001b[39mint\u001b[39;49m(V_complex)\n\u001b[0;32m      2\u001b[0m \u001b[39mprint\u001b[39m(complex_to_int)\n\u001b[0;32m      3\u001b[0m \u001b[39mprint\u001b[39m(\u001b[39mtype\u001b[39m(complex_to_int))\n",
      "\u001b[1;31mTypeError\u001b[0m: int() argument must be a string, a bytes-like object or a real number, not 'complex'"
     ]
    }
   ],
   "source": [
    "list_to_int=int(V_list)\n",
    "print(list_to_int)\n",
    "print(type(list_to_int))\n",
    "\n",
    "tuple_to_int=int(V_tuple)\n",
    "print(tuple_to_int)\n",
    "print(type(tuple_to_int))\n",
    "\n",
    "set_to_int=int(V_set)\n",
    "print(set_to_int)\n",
    "print(type(set_to_int))\n",
    "\n",
    "dict_to_int=int(V_dict)\n",
    "print(dict_to_int)\n",
    "print(type(dict_to_int))\n",
    "\n",
    "\n",
    "complex_to_int=int(V_complex)\n",
    "print(complex_to_int)\n",
    "print(type(complex_to_int))"
   ]
  },
  {
   "cell_type": "markdown",
   "metadata": {},
   "source": [
    "Conversion to float"
   ]
  },
  {
   "cell_type": "code",
   "execution_count": null,
   "metadata": {},
   "outputs": [],
   "source": [
    "bool_to_float=float(V_bool)\n",
    "print(bool_to_float)\n",
    "print(type(bool_to_float))\n",
    "\n",
    "V_bool2=False\n",
    "bool_to_float=float(V_bool2)\n",
    "print(bool_to_float)\n",
    "print(type(bool_to_float))"
   ]
  },
  {
   "cell_type": "code",
   "execution_count": null,
   "metadata": {},
   "outputs": [],
   "source": [
    "int_to_float=float(V_int)\n",
    "print(int_to_float)\n",
    "print(type(int_to_float))"
   ]
  },
  {
   "cell_type": "code",
   "execution_count": 14,
   "metadata": {},
   "outputs": [
    {
     "name": "stdout",
     "output_type": "stream",
     "text": [
      "1.0\n",
      "<class 'float'>\n",
      "-1.0\n",
      "<class 'float'>\n"
     ]
    },
    {
     "ename": "ValueError",
     "evalue": "could not convert string to float: 'w'",
     "output_type": "error",
     "traceback": [
      "\u001b[1;31m---------------------------------------------------------------------------\u001b[0m",
      "\u001b[1;31mValueError\u001b[0m                                Traceback (most recent call last)",
      "Cell \u001b[1;32mIn[14], line 11\u001b[0m\n\u001b[0;32m      8\u001b[0m \u001b[39mprint\u001b[39m(\u001b[39mtype\u001b[39m(str_to_float))\n\u001b[0;32m     10\u001b[0m V_str2\u001b[39m=\u001b[39m\u001b[39m\"\u001b[39m\u001b[39mw\u001b[39m\u001b[39m\"\u001b[39m\n\u001b[1;32m---> 11\u001b[0m str_to_float\u001b[39m=\u001b[39m\u001b[39mfloat\u001b[39;49m(V_str2)\n\u001b[0;32m     12\u001b[0m \u001b[39mprint\u001b[39m(str_to_float)\n\u001b[0;32m     13\u001b[0m \u001b[39mprint\u001b[39m(\u001b[39mtype\u001b[39m(str_to_float))\n",
      "\u001b[1;31mValueError\u001b[0m: could not convert string to float: 'w'"
     ]
    }
   ],
   "source": [
    "str_to_float=float(V_str)\n",
    "print(str_to_float)\n",
    "print(type(str_to_float))\n",
    "\n",
    "V_str2=\"-1.0\"\n",
    "str_to_float=float(V_str2)\n",
    "print(str_to_float)\n",
    "print(type(str_to_float))\n",
    "\n",
    "V_str2=\"w\"\n",
    "str_to_float=float(V_str2)\n",
    "print(str_to_float)\n",
    "print(type(str_to_float))"
   ]
  },
  {
   "cell_type": "code",
   "execution_count": 15,
   "metadata": {},
   "outputs": [
    {
     "ename": "TypeError",
     "evalue": "float() argument must be a string or a real number, not 'list'",
     "output_type": "error",
     "traceback": [
      "\u001b[1;31m---------------------------------------------------------------------------\u001b[0m",
      "\u001b[1;31mTypeError\u001b[0m                                 Traceback (most recent call last)",
      "Cell \u001b[1;32mIn[15], line 1\u001b[0m\n\u001b[1;32m----> 1\u001b[0m list_to_float\u001b[39m=\u001b[39m\u001b[39mfloat\u001b[39;49m(V_list)\n\u001b[0;32m      2\u001b[0m \u001b[39mprint\u001b[39m(list_to_float)\n\u001b[0;32m      3\u001b[0m \u001b[39mprint\u001b[39m(\u001b[39mtype\u001b[39m(list_to_float))\n",
      "\u001b[1;31mTypeError\u001b[0m: float() argument must be a string or a real number, not 'list'"
     ]
    }
   ],
   "source": [
    "list_to_float=float(V_list)\n",
    "print(list_to_float)\n",
    "print(type(list_to_float))\n",
    "\n",
    "tuple_to_float=float(V_tuple)\n",
    "print(tuple_to_float)\n",
    "print(type(tuple_to_float))\n",
    "\n",
    "set_to_float=float(V_set)\n",
    "print(set_to_float)\n",
    "print(type(set_to_float))\n",
    "\n",
    "dict_to_float=float(V_dict)\n",
    "print(dict_to_float)\n",
    "print(type(dict_to_float))\n",
    "\n"
   ]
  },
  {
   "cell_type": "code",
   "execution_count": 16,
   "metadata": {},
   "outputs": [
    {
     "ename": "TypeError",
     "evalue": "float() argument must be a string or a real number, not 'complex'",
     "output_type": "error",
     "traceback": [
      "\u001b[1;31m---------------------------------------------------------------------------\u001b[0m",
      "\u001b[1;31mTypeError\u001b[0m                                 Traceback (most recent call last)",
      "Cell \u001b[1;32mIn[16], line 1\u001b[0m\n\u001b[1;32m----> 1\u001b[0m complex_to_float\u001b[39m=\u001b[39m\u001b[39mfloat\u001b[39;49m(V_complex)\n\u001b[0;32m      2\u001b[0m \u001b[39mprint\u001b[39m(complex_to_float)\n\u001b[0;32m      3\u001b[0m \u001b[39mprint\u001b[39m(\u001b[39mtype\u001b[39m(complex_to_float))\n",
      "\u001b[1;31mTypeError\u001b[0m: float() argument must be a string or a real number, not 'complex'"
     ]
    }
   ],
   "source": [
    "complex_to_float=float(V_complex)\n",
    "print(complex_to_float)\n",
    "print(type(complex_to_float))"
   ]
  },
  {
   "cell_type": "code",
   "execution_count": null,
   "metadata": {},
   "outputs": [],
   "source": [
    "Conversion to string"
   ]
  },
  {
   "cell_type": "code",
   "execution_count": 18,
   "metadata": {},
   "outputs": [
    {
     "name": "stdout",
     "output_type": "stream",
     "text": [
      "True\n",
      "<class 'str'>\n",
      "1\n",
      "<class 'str'>\n",
      "-1.0\n",
      "<class 'str'>\n",
      "[1, 2, 3]\n",
      "<class 'str'>\n",
      "(1, 2, 3)\n",
      "<class 'str'>\n",
      "{1, 2, 3}\n",
      "<class 'str'>\n",
      "{'a': 1, 'b': 2}\n",
      "<class 'str'>\n",
      "(1+2j)\n",
      "<class 'str'>\n"
     ]
    }
   ],
   "source": [
    "bool_to_str=str(V_bool)\n",
    "print(bool_to_str)\n",
    "print(type(bool_to_str))\n",
    "\n",
    "int_to_str=str(V_int)\n",
    "print(int_to_str)\n",
    "print(type(int_to_str))\n",
    "\n",
    "float_to_str=str(V_float)\n",
    "print(float_to_str)\n",
    "print(type(float_to_str))\n",
    "\n",
    "list_to_str=str(V_list)\n",
    "print(list_to_str)\n",
    "print(type(list_to_str))\n",
    "\n",
    "tuple_to_str=str(V_tuple)\n",
    "print(tuple_to_str)\n",
    "print(type(tuple_to_str))\n",
    "\n",
    "set_to_str=str(V_set)\n",
    "print(set_to_str)\n",
    "print(type(set_to_str))\n",
    "\n",
    "dict_to_str=str(V_dict)\n",
    "print(dict_to_str)\n",
    "print(type(dict_to_str))\n",
    "\n",
    "complex_to_str=str(V_complex)\n",
    "print(complex_to_str)\n",
    "print(type(complex_to_str))\n"
   ]
  },
  {
   "cell_type": "markdown",
   "metadata": {},
   "source": [
    "conversion to list"
   ]
  },
  {
   "cell_type": "code",
   "execution_count": 25,
   "metadata": {},
   "outputs": [
    {
     "ename": "TypeError",
     "evalue": "'int' object is not iterable",
     "output_type": "error",
     "traceback": [
      "\u001b[1;31m---------------------------------------------------------------------------\u001b[0m",
      "\u001b[1;31mTypeError\u001b[0m                                 Traceback (most recent call last)",
      "Cell \u001b[1;32mIn[25], line 1\u001b[0m\n\u001b[1;32m----> 1\u001b[0m int_to_list\u001b[39m=\u001b[39m\u001b[39mlist\u001b[39;49m(V_int)\n\u001b[0;32m      2\u001b[0m \u001b[39mprint\u001b[39m(int_to_list)\n\u001b[0;32m      3\u001b[0m \u001b[39mprint\u001b[39m(\u001b[39mtype\u001b[39m(int_to_list))\n",
      "\u001b[1;31mTypeError\u001b[0m: 'int' object is not iterable"
     ]
    }
   ],
   "source": [
    "bool_to_list=list(V_bool)\n",
    "print(bool_to_list)\n",
    "print(type(bool_to_list))\n",
    "\n",
    "int_to_list=list(V_int)\n",
    "print(int_to_list)\n",
    "print(type(int_to_list))\n",
    "\n",
    "float_to_list=list(V_float)\n",
    "print(float_to_list)\n",
    "print(type(float_to_list))\n",
    "\n",
    "complex_to_list=list(V_complex)\n",
    "print(complex_to_list)\n",
    "print(type(complex_to_list))\n",
    "\n"
   ]
  },
  {
   "cell_type": "code",
   "execution_count": 29,
   "metadata": {},
   "outputs": [
    {
     "name": "stdout",
     "output_type": "stream",
     "text": [
      "['1']\n",
      "<class 'list'>\n",
      "['a', 'b', 'c', '-', '1']\n",
      "<class 'list'>\n"
     ]
    }
   ],
   "source": [
    "str_to_list=list(V_str)\n",
    "print(str_to_list)\n",
    "print(type(str_to_list))\n",
    "\n",
    "V_str2=\"abc-1\"\n",
    "str_to_list=list(V_str2)\n",
    "print(str_to_list)\n",
    "print(type(str_to_list))\n",
    "\n"
   ]
  },
  {
   "cell_type": "code",
   "execution_count": 37,
   "metadata": {},
   "outputs": [
    {
     "name": "stdout",
     "output_type": "stream",
     "text": [
      "[1, 2, 3]\n",
      "<class 'list'>\n",
      "[1, 2, 3]\n",
      "<class 'list'>\n",
      "['a', 'b']\n",
      "<class 'list'>\n"
     ]
    }
   ],
   "source": [
    "tuple_to_list=list(V_tuple)\n",
    "print(tuple_to_list)\n",
    "print(type(tuple_to_list))\n",
    "\n",
    "set_to_list=list(V_set)\n",
    "print(set_to_list)\n",
    "print(type(set_to_list))\n",
    "\n",
    "dict_to_list=list(V_dict)\n",
    "print(dict_to_list)\n",
    "print(type(dict_to_list))"
   ]
  },
  {
   "cell_type": "markdown",
   "metadata": {},
   "source": [
    "Conversion to tuple"
   ]
  },
  {
   "cell_type": "code",
   "execution_count": 38,
   "metadata": {},
   "outputs": [
    {
     "name": "stdout",
     "output_type": "stream",
     "text": [
      "(1, 2, 3)\n",
      "<class 'tuple'>\n",
      "(1, 2, 3)\n",
      "<class 'tuple'>\n",
      "('a', 'b')\n",
      "<class 'tuple'>\n"
     ]
    }
   ],
   "source": [
    "list_to_tuple=tuple(V_list)\n",
    "print(list_to_tuple)\n",
    "print(type(list_to_tuple))\n",
    "\n",
    "set_to_tuple=tuple(V_set)\n",
    "print(set_to_tuple)\n",
    "print(type(set_to_tuple))\n",
    "\n",
    "dict_to_tuple=tuple(V_dict)\n",
    "print(dict_to_tuple)\n",
    "print(type(dict_to_tuple))\n"
   ]
  },
  {
   "cell_type": "markdown",
   "metadata": {},
   "source": [
    "Conversion to set"
   ]
  },
  {
   "cell_type": "code",
   "execution_count": null,
   "metadata": {},
   "outputs": [],
   "source": [
    "\n",
    "list_to_set=set(V_list)\n",
    "print(list_to_set)\n",
    "print(type(list_to_set))\n",
    "\n",
    "tuple_to_set=set(V_tuple)\n",
    "print(tuple_to_set)\n",
    "print(type(tuple_to_set))\n",
    "\n",
    "dict_to_set=set(V_dict)\n",
    "print(dict_to_set)\n",
    "print(type(dict_to_set))\n",
    "\n"
   ]
  },
  {
   "cell_type": "markdown",
   "metadata": {},
   "source": [
    "conversion to dictionary"
   ]
  },
  {
   "cell_type": "code",
   "execution_count": 41,
   "metadata": {},
   "outputs": [
    {
     "ename": "TypeError",
     "evalue": "cannot convert dictionary update sequence element #0 to a sequence",
     "output_type": "error",
     "traceback": [
      "\u001b[1;31m---------------------------------------------------------------------------\u001b[0m",
      "\u001b[1;31mTypeError\u001b[0m                                 Traceback (most recent call last)",
      "Cell \u001b[1;32mIn[41], line 1\u001b[0m\n\u001b[1;32m----> 1\u001b[0m tuple_to_dict\u001b[39m=\u001b[39m\u001b[39mdict\u001b[39;49m(V_tuple)\n\u001b[0;32m      2\u001b[0m \u001b[39mprint\u001b[39m(tuple_to_dict)\n\u001b[0;32m      3\u001b[0m \u001b[39mprint\u001b[39m(\u001b[39mtype\u001b[39m(tuple_to_dict))\n",
      "\u001b[1;31mTypeError\u001b[0m: cannot convert dictionary update sequence element #0 to a sequence"
     ]
    }
   ],
   "source": [
    "\n",
    "list_to_dict=dict(V_list)\n",
    "print(list_to_dict)\n",
    "print(type(list_to_dict))\n",
    "\n",
    "tuple_to_dict=dict(V_tuple)\n",
    "print(tuple_to_dict)\n",
    "print(type(tuple_to_dict))\n"
   ]
  },
  {
   "cell_type": "markdown",
   "metadata": {},
   "source": [
    "Conversion to complex"
   ]
  },
  {
   "cell_type": "code",
   "execution_count": 44,
   "metadata": {},
   "outputs": [
    {
     "name": "stdout",
     "output_type": "stream",
     "text": [
      "(1+0j)\n",
      "<class 'complex'>\n",
      "(1+0j)\n",
      "<class 'complex'>\n",
      "(-1+0j)\n",
      "<class 'complex'>\n"
     ]
    }
   ],
   "source": [
    "bool_to_complex=complex(V_bool)\n",
    "print(bool_to_complex)\n",
    "print(type(bool_to_complex))\n",
    "\n",
    "int_to_complex=complex(V_int)\n",
    "print(int_to_complex)\n",
    "print(type(int_to_complex))\n",
    "\n",
    "float_to_complex=complex(V_float)\n",
    "print(float_to_complex)\n",
    "print(type(float_to_complex))\n",
    "\n"
   ]
  },
  {
   "cell_type": "code",
   "execution_count": 51,
   "metadata": {},
   "outputs": [
    {
     "name": "stdout",
     "output_type": "stream",
     "text": [
      "(1+0j)\n",
      "<class 'complex'>\n",
      "(1+2j)\n",
      "<class 'complex'>\n",
      "-1j\n",
      "<class 'complex'>\n"
     ]
    },
    {
     "ename": "ValueError",
     "evalue": "complex() arg is a malformed string",
     "output_type": "error",
     "traceback": [
      "\u001b[1;31m---------------------------------------------------------------------------\u001b[0m",
      "\u001b[1;31mValueError\u001b[0m                                Traceback (most recent call last)",
      "Cell \u001b[1;32mIn[51], line 16\u001b[0m\n\u001b[0;32m     13\u001b[0m \u001b[39mprint\u001b[39m(\u001b[39mtype\u001b[39m(str_to_complex))\n\u001b[0;32m     15\u001b[0m V_str4\u001b[39m=\u001b[39m\u001b[39m\"\u001b[39m\u001b[39m+\u001b[39m\u001b[39m\"\u001b[39m\n\u001b[1;32m---> 16\u001b[0m str_to_complex\u001b[39m=\u001b[39m\u001b[39mcomplex\u001b[39;49m(V_str4)\n\u001b[0;32m     17\u001b[0m \u001b[39mprint\u001b[39m(str_to_complex)\n\u001b[0;32m     18\u001b[0m \u001b[39mprint\u001b[39m(\u001b[39mtype\u001b[39m(str_to_complex))\n",
      "\u001b[1;31mValueError\u001b[0m: complex() arg is a malformed string"
     ]
    }
   ],
   "source": [
    "str_to_complex=complex(V_str)\n",
    "print(str_to_complex)\n",
    "print(type(str_to_complex))\n",
    "\n",
    "V_str2=\"1+2j\"\n",
    "str_to_complex=complex(V_str2)\n",
    "print(str_to_complex)\n",
    "print(type(str_to_complex))\n",
    "\n",
    "V_str3=\"-j\"\n",
    "str_to_complex=complex(V_str3)\n",
    "print(str_to_complex)\n",
    "print(type(str_to_complex))\n",
    "\n",
    "V_str4=\"+\"\n",
    "str_to_complex=complex(V_str4)\n",
    "print(str_to_complex)\n",
    "print(type(str_to_complex))"
   ]
  }
 ],
 "metadata": {
  "kernelspec": {
   "display_name": "Python 3",
   "language": "python",
   "name": "python3"
  },
  "language_info": {
   "codemirror_mode": {
    "name": "ipython",
    "version": 3
   },
   "file_extension": ".py",
   "mimetype": "text/x-python",
   "name": "python",
   "nbconvert_exporter": "python",
   "pygments_lexer": "ipython3",
   "version": "3.10.11"
  },
  "orig_nbformat": 4
 },
 "nbformat": 4,
 "nbformat_minor": 2
}
