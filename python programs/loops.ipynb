{
 "cells": [
  {
   "cell_type": "markdown",
   "metadata": {},
   "source": [
    "loops\n"
   ]
  },
  {
   "cell_type": "markdown",
   "metadata": {},
   "source": [
    "while\n",
    "eg: convert decimal to binary"
   ]
  },
  {
   "cell_type": "code",
   "execution_count": 2,
   "metadata": {},
   "outputs": [
    {
     "name": "stdout",
     "output_type": "stream",
     "text": [
      "[1, 0, 1, 0, 0, 1, 0, 0, 0, 0, 1]\n",
      "10100100001\n"
     ]
    }
   ],
   "source": [
    "dec=int(input(\"Enter a decimal number: \"))\n",
    "a=[]\n",
    "while dec>0:\n",
    "    rem=dec%2\n",
    "    a.append(rem)\n",
    "    dec=dec//2\n",
    "\n",
    "a.reverse()\n",
    "bin=''\n",
    "for i in range(len(a)):\n",
    "    bin+=str(a[i])\n",
    "print(a)\n",
    "print(bin)\n"
   ]
  },
  {
   "cell_type": "markdown",
   "metadata": {},
   "source": [
    "multline strings can be assinged using thriple qoutes. new line is treated as one character in index."
   ]
  },
  {
   "cell_type": "code",
   "execution_count": 5,
   "metadata": {},
   "outputs": [
    {
     "name": "stdout",
     "output_type": "stream",
     "text": [
      "j\n"
     ]
    }
   ],
   "source": [
    "str1=\"\"\"ib\n",
    "jk\n",
    "hj\"\"\"\n",
    "\n",
    "#print(str1)\n",
    "print(str1[3])"
   ]
  }
 ],
 "metadata": {
  "kernelspec": {
   "display_name": "Python 3",
   "language": "python",
   "name": "python3"
  },
  "language_info": {
   "codemirror_mode": {
    "name": "ipython",
    "version": 3
   },
   "file_extension": ".py",
   "mimetype": "text/x-python",
   "name": "python",
   "nbconvert_exporter": "python",
   "pygments_lexer": "ipython3",
   "version": "3.10.11"
  },
  "orig_nbformat": 4
 },
 "nbformat": 4,
 "nbformat_minor": 2
}
